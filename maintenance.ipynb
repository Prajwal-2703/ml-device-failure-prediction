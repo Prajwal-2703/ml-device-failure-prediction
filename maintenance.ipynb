{
  "nbformat": 4,
  "nbformat_minor": 0,
  "metadata": {
    "colab": {
      "name": "maintenance.ipynb",
      "provenance": [],
      "collapsed_sections": []
    },
    "kernelspec": {
      "name": "python3",
      "display_name": "Python 3"
    },
    "language_info": {
      "name": "python"
    }
  },
  "cells": [
    {
      "cell_type": "markdown",
      "metadata": {
        "id": "F6c5IS2KVSsN"
      },
      "source": [
        "#Maintenance cost reduction through predictive techniques "
      ]
    },
    {
      "cell_type": "code",
      "metadata": {
        "id": "WDpB51zcV3Ta"
      },
      "source": [
        "import numpy as np\n",
        "import pandas as pd\n",
        "import matplotlib.pyplot as plt\n",
        "import seaborn as sns\n",
        "\n",
        "import warnings\n",
        "warnings.filterwarnings('ignore')"
      ],
      "execution_count": 105,
      "outputs": []
    },
    {
      "cell_type": "markdown",
      "metadata": {
        "id": "i86-s6vwVt9a"
      },
      "source": [
        "# Import Dataset\n"
      ]
    },
    {
      "cell_type": "code",
      "metadata": {
        "colab": {
          "base_uri": "https://localhost:8080/",
          "height": 357
        },
        "id": "DauxWffNVNGs",
        "outputId": "1f78a8d1-1f6e-4afd-ab95-7d4d8cdf0cb4"
      },
      "source": [
        "df = pd.read_csv('/content/maintenance_dataset')\n",
        "df.head(10)"
      ],
      "execution_count": 106,
      "outputs": [
        {
          "output_type": "execute_result",
          "data": {
            "text/html": [
              "<div>\n",
              "<style scoped>\n",
              "    .dataframe tbody tr th:only-of-type {\n",
              "        vertical-align: middle;\n",
              "    }\n",
              "\n",
              "    .dataframe tbody tr th {\n",
              "        vertical-align: top;\n",
              "    }\n",
              "\n",
              "    .dataframe thead th {\n",
              "        text-align: right;\n",
              "    }\n",
              "</style>\n",
              "<table border=\"1\" class=\"dataframe\">\n",
              "  <thead>\n",
              "    <tr style=\"text-align: right;\">\n",
              "      <th></th>\n",
              "      <th>date</th>\n",
              "      <th>device</th>\n",
              "      <th>failure</th>\n",
              "      <th>metric1</th>\n",
              "      <th>metric2</th>\n",
              "      <th>metric3</th>\n",
              "      <th>metric4</th>\n",
              "      <th>metric5</th>\n",
              "      <th>metric6</th>\n",
              "      <th>metric7</th>\n",
              "      <th>metric8</th>\n",
              "      <th>metric9</th>\n",
              "    </tr>\n",
              "  </thead>\n",
              "  <tbody>\n",
              "    <tr>\n",
              "      <th>0</th>\n",
              "      <td>1/1/2015</td>\n",
              "      <td>S1F01085</td>\n",
              "      <td>0</td>\n",
              "      <td>215630672</td>\n",
              "      <td>55</td>\n",
              "      <td>0</td>\n",
              "      <td>52</td>\n",
              "      <td>6</td>\n",
              "      <td>407438</td>\n",
              "      <td>0</td>\n",
              "      <td>0</td>\n",
              "      <td>7</td>\n",
              "    </tr>\n",
              "    <tr>\n",
              "      <th>1</th>\n",
              "      <td>1/1/2015</td>\n",
              "      <td>S1F0166B</td>\n",
              "      <td>0</td>\n",
              "      <td>61370680</td>\n",
              "      <td>0</td>\n",
              "      <td>3</td>\n",
              "      <td>0</td>\n",
              "      <td>6</td>\n",
              "      <td>403174</td>\n",
              "      <td>0</td>\n",
              "      <td>0</td>\n",
              "      <td>0</td>\n",
              "    </tr>\n",
              "    <tr>\n",
              "      <th>2</th>\n",
              "      <td>1/1/2015</td>\n",
              "      <td>S1F01E6Y</td>\n",
              "      <td>0</td>\n",
              "      <td>173295968</td>\n",
              "      <td>0</td>\n",
              "      <td>0</td>\n",
              "      <td>0</td>\n",
              "      <td>12</td>\n",
              "      <td>237394</td>\n",
              "      <td>0</td>\n",
              "      <td>0</td>\n",
              "      <td>0</td>\n",
              "    </tr>\n",
              "    <tr>\n",
              "      <th>3</th>\n",
              "      <td>1/1/2015</td>\n",
              "      <td>S1F01JE0</td>\n",
              "      <td>0</td>\n",
              "      <td>79694024</td>\n",
              "      <td>0</td>\n",
              "      <td>0</td>\n",
              "      <td>0</td>\n",
              "      <td>6</td>\n",
              "      <td>410186</td>\n",
              "      <td>0</td>\n",
              "      <td>0</td>\n",
              "      <td>0</td>\n",
              "    </tr>\n",
              "    <tr>\n",
              "      <th>4</th>\n",
              "      <td>1/1/2015</td>\n",
              "      <td>S1F01R2B</td>\n",
              "      <td>0</td>\n",
              "      <td>135970480</td>\n",
              "      <td>0</td>\n",
              "      <td>0</td>\n",
              "      <td>0</td>\n",
              "      <td>15</td>\n",
              "      <td>313173</td>\n",
              "      <td>0</td>\n",
              "      <td>0</td>\n",
              "      <td>3</td>\n",
              "    </tr>\n",
              "    <tr>\n",
              "      <th>5</th>\n",
              "      <td>1/1/2015</td>\n",
              "      <td>S1F01TD5</td>\n",
              "      <td>0</td>\n",
              "      <td>68837488</td>\n",
              "      <td>0</td>\n",
              "      <td>0</td>\n",
              "      <td>41</td>\n",
              "      <td>6</td>\n",
              "      <td>413535</td>\n",
              "      <td>0</td>\n",
              "      <td>0</td>\n",
              "      <td>1</td>\n",
              "    </tr>\n",
              "    <tr>\n",
              "      <th>6</th>\n",
              "      <td>1/1/2015</td>\n",
              "      <td>S1F01XDJ</td>\n",
              "      <td>0</td>\n",
              "      <td>227721632</td>\n",
              "      <td>0</td>\n",
              "      <td>0</td>\n",
              "      <td>0</td>\n",
              "      <td>8</td>\n",
              "      <td>402525</td>\n",
              "      <td>0</td>\n",
              "      <td>0</td>\n",
              "      <td>0</td>\n",
              "    </tr>\n",
              "    <tr>\n",
              "      <th>7</th>\n",
              "      <td>1/1/2015</td>\n",
              "      <td>S1F023H2</td>\n",
              "      <td>0</td>\n",
              "      <td>141503600</td>\n",
              "      <td>0</td>\n",
              "      <td>0</td>\n",
              "      <td>1</td>\n",
              "      <td>19</td>\n",
              "      <td>494462</td>\n",
              "      <td>16</td>\n",
              "      <td>16</td>\n",
              "      <td>3</td>\n",
              "    </tr>\n",
              "    <tr>\n",
              "      <th>8</th>\n",
              "      <td>1/1/2015</td>\n",
              "      <td>S1F02A0J</td>\n",
              "      <td>0</td>\n",
              "      <td>8217840</td>\n",
              "      <td>0</td>\n",
              "      <td>1</td>\n",
              "      <td>0</td>\n",
              "      <td>14</td>\n",
              "      <td>311869</td>\n",
              "      <td>0</td>\n",
              "      <td>0</td>\n",
              "      <td>0</td>\n",
              "    </tr>\n",
              "    <tr>\n",
              "      <th>9</th>\n",
              "      <td>1/1/2015</td>\n",
              "      <td>S1F02DZ2</td>\n",
              "      <td>0</td>\n",
              "      <td>116440096</td>\n",
              "      <td>0</td>\n",
              "      <td>378</td>\n",
              "      <td>9</td>\n",
              "      <td>9</td>\n",
              "      <td>407905</td>\n",
              "      <td>0</td>\n",
              "      <td>0</td>\n",
              "      <td>170</td>\n",
              "    </tr>\n",
              "  </tbody>\n",
              "</table>\n",
              "</div>"
            ],
            "text/plain": [
              "       date    device  failure    metric1  ...  metric6  metric7  metric8  metric9\n",
              "0  1/1/2015  S1F01085        0  215630672  ...   407438        0        0        7\n",
              "1  1/1/2015  S1F0166B        0   61370680  ...   403174        0        0        0\n",
              "2  1/1/2015  S1F01E6Y        0  173295968  ...   237394        0        0        0\n",
              "3  1/1/2015  S1F01JE0        0   79694024  ...   410186        0        0        0\n",
              "4  1/1/2015  S1F01R2B        0  135970480  ...   313173        0        0        3\n",
              "5  1/1/2015  S1F01TD5        0   68837488  ...   413535        0        0        1\n",
              "6  1/1/2015  S1F01XDJ        0  227721632  ...   402525        0        0        0\n",
              "7  1/1/2015  S1F023H2        0  141503600  ...   494462       16       16        3\n",
              "8  1/1/2015  S1F02A0J        0    8217840  ...   311869        0        0        0\n",
              "9  1/1/2015  S1F02DZ2        0  116440096  ...   407905        0        0      170\n",
              "\n",
              "[10 rows x 12 columns]"
            ]
          },
          "metadata": {},
          "execution_count": 106
        }
      ]
    },
    {
      "cell_type": "code",
      "metadata": {
        "colab": {
          "base_uri": "https://localhost:8080/"
        },
        "id": "MRn9hS2hnfE6",
        "outputId": "9e823502-7af4-42e8-bac4-6cbb19dd38fb"
      },
      "source": [
        "df.shape"
      ],
      "execution_count": 107,
      "outputs": [
        {
          "output_type": "execute_result",
          "data": {
            "text/plain": [
              "(124494, 12)"
            ]
          },
          "metadata": {},
          "execution_count": 107
        }
      ]
    },
    {
      "cell_type": "code",
      "metadata": {
        "colab": {
          "base_uri": "https://localhost:8080/"
        },
        "id": "hyHvFe9HW1eo",
        "outputId": "ae35e4d7-f811-495e-9a60-4def6da919a6"
      },
      "source": [
        "df.info()"
      ],
      "execution_count": 108,
      "outputs": [
        {
          "output_type": "stream",
          "text": [
            "<class 'pandas.core.frame.DataFrame'>\n",
            "RangeIndex: 124494 entries, 0 to 124493\n",
            "Data columns (total 12 columns):\n",
            " #   Column   Non-Null Count   Dtype \n",
            "---  ------   --------------   ----- \n",
            " 0   date     124494 non-null  object\n",
            " 1   device   124494 non-null  object\n",
            " 2   failure  124494 non-null  int64 \n",
            " 3   metric1  124494 non-null  int64 \n",
            " 4   metric2  124494 non-null  int64 \n",
            " 5   metric3  124494 non-null  int64 \n",
            " 6   metric4  124494 non-null  int64 \n",
            " 7   metric5  124494 non-null  int64 \n",
            " 8   metric6  124494 non-null  int64 \n",
            " 9   metric7  124494 non-null  int64 \n",
            " 10  metric8  124494 non-null  int64 \n",
            " 11  metric9  124494 non-null  int64 \n",
            "dtypes: int64(10), object(2)\n",
            "memory usage: 11.4+ MB\n"
          ],
          "name": "stdout"
        }
      ]
    },
    {
      "cell_type": "code",
      "metadata": {
        "colab": {
          "base_uri": "https://localhost:8080/",
          "height": 315
        },
        "id": "EG0JPiLz4eJy",
        "outputId": "c52d2943-7e9b-46f0-fd16-4a35435c7abb"
      },
      "source": [
        "df.describe()"
      ],
      "execution_count": 109,
      "outputs": [
        {
          "output_type": "execute_result",
          "data": {
            "text/html": [
              "<div>\n",
              "<style scoped>\n",
              "    .dataframe tbody tr th:only-of-type {\n",
              "        vertical-align: middle;\n",
              "    }\n",
              "\n",
              "    .dataframe tbody tr th {\n",
              "        vertical-align: top;\n",
              "    }\n",
              "\n",
              "    .dataframe thead th {\n",
              "        text-align: right;\n",
              "    }\n",
              "</style>\n",
              "<table border=\"1\" class=\"dataframe\">\n",
              "  <thead>\n",
              "    <tr style=\"text-align: right;\">\n",
              "      <th></th>\n",
              "      <th>failure</th>\n",
              "      <th>metric1</th>\n",
              "      <th>metric2</th>\n",
              "      <th>metric3</th>\n",
              "      <th>metric4</th>\n",
              "      <th>metric5</th>\n",
              "      <th>metric6</th>\n",
              "      <th>metric7</th>\n",
              "      <th>metric8</th>\n",
              "      <th>metric9</th>\n",
              "    </tr>\n",
              "  </thead>\n",
              "  <tbody>\n",
              "    <tr>\n",
              "      <th>count</th>\n",
              "      <td>124494.000000</td>\n",
              "      <td>1.244940e+05</td>\n",
              "      <td>124494.000000</td>\n",
              "      <td>124494.000000</td>\n",
              "      <td>124494.000000</td>\n",
              "      <td>124494.000000</td>\n",
              "      <td>124494.000000</td>\n",
              "      <td>124494.000000</td>\n",
              "      <td>124494.000000</td>\n",
              "      <td>124494.000000</td>\n",
              "    </tr>\n",
              "    <tr>\n",
              "      <th>mean</th>\n",
              "      <td>0.000851</td>\n",
              "      <td>1.223881e+08</td>\n",
              "      <td>159.492706</td>\n",
              "      <td>9.940897</td>\n",
              "      <td>1.741120</td>\n",
              "      <td>14.222669</td>\n",
              "      <td>260172.657726</td>\n",
              "      <td>0.292528</td>\n",
              "      <td>0.292528</td>\n",
              "      <td>13.013848</td>\n",
              "    </tr>\n",
              "    <tr>\n",
              "      <th>std</th>\n",
              "      <td>0.029167</td>\n",
              "      <td>7.045933e+07</td>\n",
              "      <td>2179.677781</td>\n",
              "      <td>185.748131</td>\n",
              "      <td>22.908507</td>\n",
              "      <td>15.943028</td>\n",
              "      <td>99151.078547</td>\n",
              "      <td>7.436924</td>\n",
              "      <td>7.436924</td>\n",
              "      <td>275.661220</td>\n",
              "    </tr>\n",
              "    <tr>\n",
              "      <th>min</th>\n",
              "      <td>0.000000</td>\n",
              "      <td>0.000000e+00</td>\n",
              "      <td>0.000000</td>\n",
              "      <td>0.000000</td>\n",
              "      <td>0.000000</td>\n",
              "      <td>1.000000</td>\n",
              "      <td>8.000000</td>\n",
              "      <td>0.000000</td>\n",
              "      <td>0.000000</td>\n",
              "      <td>0.000000</td>\n",
              "    </tr>\n",
              "    <tr>\n",
              "      <th>25%</th>\n",
              "      <td>0.000000</td>\n",
              "      <td>6.128476e+07</td>\n",
              "      <td>0.000000</td>\n",
              "      <td>0.000000</td>\n",
              "      <td>0.000000</td>\n",
              "      <td>8.000000</td>\n",
              "      <td>221452.000000</td>\n",
              "      <td>0.000000</td>\n",
              "      <td>0.000000</td>\n",
              "      <td>0.000000</td>\n",
              "    </tr>\n",
              "    <tr>\n",
              "      <th>50%</th>\n",
              "      <td>0.000000</td>\n",
              "      <td>1.227974e+08</td>\n",
              "      <td>0.000000</td>\n",
              "      <td>0.000000</td>\n",
              "      <td>0.000000</td>\n",
              "      <td>10.000000</td>\n",
              "      <td>249799.500000</td>\n",
              "      <td>0.000000</td>\n",
              "      <td>0.000000</td>\n",
              "      <td>0.000000</td>\n",
              "    </tr>\n",
              "    <tr>\n",
              "      <th>75%</th>\n",
              "      <td>0.000000</td>\n",
              "      <td>1.833096e+08</td>\n",
              "      <td>0.000000</td>\n",
              "      <td>0.000000</td>\n",
              "      <td>0.000000</td>\n",
              "      <td>12.000000</td>\n",
              "      <td>310266.000000</td>\n",
              "      <td>0.000000</td>\n",
              "      <td>0.000000</td>\n",
              "      <td>0.000000</td>\n",
              "    </tr>\n",
              "    <tr>\n",
              "      <th>max</th>\n",
              "      <td>1.000000</td>\n",
              "      <td>2.441405e+08</td>\n",
              "      <td>64968.000000</td>\n",
              "      <td>24929.000000</td>\n",
              "      <td>1666.000000</td>\n",
              "      <td>98.000000</td>\n",
              "      <td>689161.000000</td>\n",
              "      <td>832.000000</td>\n",
              "      <td>832.000000</td>\n",
              "      <td>70000.000000</td>\n",
              "    </tr>\n",
              "  </tbody>\n",
              "</table>\n",
              "</div>"
            ],
            "text/plain": [
              "             failure       metric1  ...        metric8        metric9\n",
              "count  124494.000000  1.244940e+05  ...  124494.000000  124494.000000\n",
              "mean        0.000851  1.223881e+08  ...       0.292528      13.013848\n",
              "std         0.029167  7.045933e+07  ...       7.436924     275.661220\n",
              "min         0.000000  0.000000e+00  ...       0.000000       0.000000\n",
              "25%         0.000000  6.128476e+07  ...       0.000000       0.000000\n",
              "50%         0.000000  1.227974e+08  ...       0.000000       0.000000\n",
              "75%         0.000000  1.833096e+08  ...       0.000000       0.000000\n",
              "max         1.000000  2.441405e+08  ...     832.000000   70000.000000\n",
              "\n",
              "[8 rows x 10 columns]"
            ]
          },
          "metadata": {},
          "execution_count": 109
        }
      ]
    },
    {
      "cell_type": "code",
      "metadata": {
        "colab": {
          "base_uri": "https://localhost:8080/"
        },
        "id": "-6qS0yYhpnmr",
        "outputId": "97ba6f81-d4ba-43f1-b913-0253c127380d"
      },
      "source": [
        "df.shape"
      ],
      "execution_count": 110,
      "outputs": [
        {
          "output_type": "execute_result",
          "data": {
            "text/plain": [
              "(124494, 12)"
            ]
          },
          "metadata": {},
          "execution_count": 110
        }
      ]
    },
    {
      "cell_type": "code",
      "metadata": {
        "colab": {
          "base_uri": "https://localhost:8080/"
        },
        "id": "Ch3Ip2wDq3iU",
        "outputId": "23ce3782-3a32-4e09-a345-2ade79047939"
      },
      "source": [
        "df.columns"
      ],
      "execution_count": 111,
      "outputs": [
        {
          "output_type": "execute_result",
          "data": {
            "text/plain": [
              "Index(['date', 'device', 'failure', 'metric1', 'metric2', 'metric3', 'metric4',\n",
              "       'metric5', 'metric6', 'metric7', 'metric8', 'metric9'],\n",
              "      dtype='object')"
            ]
          },
          "metadata": {},
          "execution_count": 111
        }
      ]
    },
    {
      "cell_type": "markdown",
      "metadata": {
        "id": "XaL4MVtv1elX"
      },
      "source": [
        "#Preprocessing"
      ]
    },
    {
      "cell_type": "markdown",
      "metadata": {
        "id": "YXe0QGeryz9n"
      },
      "source": [
        "##Handling Missing values"
      ]
    },
    {
      "cell_type": "code",
      "metadata": {
        "id": "25ku7xDrnYo-",
        "colab": {
          "base_uri": "https://localhost:8080/"
        },
        "outputId": "5967bfb7-0b30-4e49-b9d8-38cbd1e63663"
      },
      "source": [
        "df.isnull().sum()"
      ],
      "execution_count": 112,
      "outputs": [
        {
          "output_type": "execute_result",
          "data": {
            "text/plain": [
              "date       0\n",
              "device     0\n",
              "failure    0\n",
              "metric1    0\n",
              "metric2    0\n",
              "metric3    0\n",
              "metric4    0\n",
              "metric5    0\n",
              "metric6    0\n",
              "metric7    0\n",
              "metric8    0\n",
              "metric9    0\n",
              "dtype: int64"
            ]
          },
          "metadata": {},
          "execution_count": 112
        }
      ]
    },
    {
      "cell_type": "code",
      "metadata": {
        "id": "PPUMvAWJKchE"
      },
      "source": [
        "df.dropna(inplace=True)"
      ],
      "execution_count": 113,
      "outputs": []
    },
    {
      "cell_type": "code",
      "metadata": {
        "colab": {
          "base_uri": "https://localhost:8080/"
        },
        "id": "zFXHxJkKKf9Q",
        "outputId": "57322d51-fa40-4c5b-fa6f-a32b4ddc7e1a"
      },
      "source": [
        "df.isna().sum()"
      ],
      "execution_count": 114,
      "outputs": [
        {
          "output_type": "execute_result",
          "data": {
            "text/plain": [
              "date       0\n",
              "device     0\n",
              "failure    0\n",
              "metric1    0\n",
              "metric2    0\n",
              "metric3    0\n",
              "metric4    0\n",
              "metric5    0\n",
              "metric6    0\n",
              "metric7    0\n",
              "metric8    0\n",
              "metric9    0\n",
              "dtype: int64"
            ]
          },
          "metadata": {},
          "execution_count": 114
        }
      ]
    },
    {
      "cell_type": "code",
      "metadata": {
        "colab": {
          "base_uri": "https://localhost:8080/"
        },
        "id": "JT3NPFHeKpaP",
        "outputId": "5269dfe6-9d48-4e6f-9768-8e7f905ad0d9"
      },
      "source": [
        "df.shape"
      ],
      "execution_count": 115,
      "outputs": [
        {
          "output_type": "execute_result",
          "data": {
            "text/plain": [
              "(124494, 12)"
            ]
          },
          "metadata": {},
          "execution_count": 115
        }
      ]
    },
    {
      "cell_type": "markdown",
      "metadata": {
        "id": "ny1AIaF2y3_Z"
      },
      "source": [
        "##Conversion of date"
      ]
    },
    {
      "cell_type": "code",
      "metadata": {
        "colab": {
          "base_uri": "https://localhost:8080/"
        },
        "id": "_1s3XUv9SPy8",
        "outputId": "641ddeb2-52b5-4839-f87f-92a41510689d"
      },
      "source": [
        "pd.to_datetime(df[\"date\"], format=\"%m/%d/%Y\").dt.year.unique()"
      ],
      "execution_count": 116,
      "outputs": [
        {
          "output_type": "execute_result",
          "data": {
            "text/plain": [
              "array([2015])"
            ]
          },
          "metadata": {},
          "execution_count": 116
        }
      ]
    },
    {
      "cell_type": "code",
      "metadata": {
        "id": "hqbX4BDVQ5mY"
      },
      "source": [
        "# Extracting Day\n",
        "df[\"day\"] = pd.to_datetime(df[\"date\"], format=\"%m/%d/%Y\").dt.day\n",
        "\n",
        "# Extracting months\n",
        "df[\"months\"] = pd.to_datetime(df[\"date\"], format=\"%m/%d/%Y\").dt.month"
      ],
      "execution_count": 117,
      "outputs": []
    },
    {
      "cell_type": "code",
      "metadata": {
        "id": "LCCJ8_AdUoz7"
      },
      "source": [
        "cols = [\"date\", \"device\"]\n",
        "df.drop(cols, axis=1, inplace=True)"
      ],
      "execution_count": 118,
      "outputs": []
    },
    {
      "cell_type": "code",
      "metadata": {
        "colab": {
          "base_uri": "https://localhost:8080/",
          "height": 203
        },
        "id": "gkV0Lea-TUaJ",
        "outputId": "453d1fa5-3e4f-4ece-e89a-7aaf5695551c"
      },
      "source": [
        "df.head()"
      ],
      "execution_count": 119,
      "outputs": [
        {
          "output_type": "execute_result",
          "data": {
            "text/html": [
              "<div>\n",
              "<style scoped>\n",
              "    .dataframe tbody tr th:only-of-type {\n",
              "        vertical-align: middle;\n",
              "    }\n",
              "\n",
              "    .dataframe tbody tr th {\n",
              "        vertical-align: top;\n",
              "    }\n",
              "\n",
              "    .dataframe thead th {\n",
              "        text-align: right;\n",
              "    }\n",
              "</style>\n",
              "<table border=\"1\" class=\"dataframe\">\n",
              "  <thead>\n",
              "    <tr style=\"text-align: right;\">\n",
              "      <th></th>\n",
              "      <th>failure</th>\n",
              "      <th>metric1</th>\n",
              "      <th>metric2</th>\n",
              "      <th>metric3</th>\n",
              "      <th>metric4</th>\n",
              "      <th>metric5</th>\n",
              "      <th>metric6</th>\n",
              "      <th>metric7</th>\n",
              "      <th>metric8</th>\n",
              "      <th>metric9</th>\n",
              "      <th>day</th>\n",
              "      <th>months</th>\n",
              "    </tr>\n",
              "  </thead>\n",
              "  <tbody>\n",
              "    <tr>\n",
              "      <th>0</th>\n",
              "      <td>0</td>\n",
              "      <td>215630672</td>\n",
              "      <td>55</td>\n",
              "      <td>0</td>\n",
              "      <td>52</td>\n",
              "      <td>6</td>\n",
              "      <td>407438</td>\n",
              "      <td>0</td>\n",
              "      <td>0</td>\n",
              "      <td>7</td>\n",
              "      <td>1</td>\n",
              "      <td>1</td>\n",
              "    </tr>\n",
              "    <tr>\n",
              "      <th>1</th>\n",
              "      <td>0</td>\n",
              "      <td>61370680</td>\n",
              "      <td>0</td>\n",
              "      <td>3</td>\n",
              "      <td>0</td>\n",
              "      <td>6</td>\n",
              "      <td>403174</td>\n",
              "      <td>0</td>\n",
              "      <td>0</td>\n",
              "      <td>0</td>\n",
              "      <td>1</td>\n",
              "      <td>1</td>\n",
              "    </tr>\n",
              "    <tr>\n",
              "      <th>2</th>\n",
              "      <td>0</td>\n",
              "      <td>173295968</td>\n",
              "      <td>0</td>\n",
              "      <td>0</td>\n",
              "      <td>0</td>\n",
              "      <td>12</td>\n",
              "      <td>237394</td>\n",
              "      <td>0</td>\n",
              "      <td>0</td>\n",
              "      <td>0</td>\n",
              "      <td>1</td>\n",
              "      <td>1</td>\n",
              "    </tr>\n",
              "    <tr>\n",
              "      <th>3</th>\n",
              "      <td>0</td>\n",
              "      <td>79694024</td>\n",
              "      <td>0</td>\n",
              "      <td>0</td>\n",
              "      <td>0</td>\n",
              "      <td>6</td>\n",
              "      <td>410186</td>\n",
              "      <td>0</td>\n",
              "      <td>0</td>\n",
              "      <td>0</td>\n",
              "      <td>1</td>\n",
              "      <td>1</td>\n",
              "    </tr>\n",
              "    <tr>\n",
              "      <th>4</th>\n",
              "      <td>0</td>\n",
              "      <td>135970480</td>\n",
              "      <td>0</td>\n",
              "      <td>0</td>\n",
              "      <td>0</td>\n",
              "      <td>15</td>\n",
              "      <td>313173</td>\n",
              "      <td>0</td>\n",
              "      <td>0</td>\n",
              "      <td>3</td>\n",
              "      <td>1</td>\n",
              "      <td>1</td>\n",
              "    </tr>\n",
              "  </tbody>\n",
              "</table>\n",
              "</div>"
            ],
            "text/plain": [
              "   failure    metric1  metric2  metric3  ...  metric8  metric9  day  months\n",
              "0        0  215630672       55        0  ...        0        7    1       1\n",
              "1        0   61370680        0        3  ...        0        0    1       1\n",
              "2        0  173295968        0        0  ...        0        0    1       1\n",
              "3        0   79694024        0        0  ...        0        0    1       1\n",
              "4        0  135970480        0        0  ...        0        3    1       1\n",
              "\n",
              "[5 rows x 12 columns]"
            ]
          },
          "metadata": {},
          "execution_count": 119
        }
      ]
    },
    {
      "cell_type": "code",
      "metadata": {
        "colab": {
          "base_uri": "https://localhost:8080/"
        },
        "id": "q-ZJumpeTmBB",
        "outputId": "a2cca951-2a59-40e7-8afd-7c36d64d66d9"
      },
      "source": [
        "df.shape"
      ],
      "execution_count": 120,
      "outputs": [
        {
          "output_type": "execute_result",
          "data": {
            "text/plain": [
              "(124494, 12)"
            ]
          },
          "metadata": {},
          "execution_count": 120
        }
      ]
    },
    {
      "cell_type": "markdown",
      "metadata": {
        "id": "JO3JfdK_qPSU"
      },
      "source": [
        "#Data Visualization"
      ]
    },
    {
      "cell_type": "markdown",
      "metadata": {
        "id": "xehQFtWs1ufl"
      },
      "source": [
        "## Data Imbalance"
      ]
    },
    {
      "cell_type": "code",
      "metadata": {
        "colab": {
          "base_uri": "https://localhost:8080/",
          "height": 296
        },
        "id": "88YpY4qlK4nm",
        "outputId": "a8d7d0d4-5fb5-46fb-aefc-21d91551a5f0"
      },
      "source": [
        "sns.countplot(df['failure'])"
      ],
      "execution_count": 121,
      "outputs": [
        {
          "output_type": "execute_result",
          "data": {
            "text/plain": [
              "<matplotlib.axes._subplots.AxesSubplot at 0x7f9b0ee382d0>"
            ]
          },
          "metadata": {},
          "execution_count": 121
        },
        {
          "output_type": "display_data",
          "data": {
            "image/png": "[encoded data removed]",
            "text/plain": [
              "<Figure size 432x288 with 1 Axes>"
            ]
          },
          "metadata": {
            "needs_background": "light"
          }
        }
      ]
    },
    {
      "cell_type": "code",
      "metadata": {
        "colab": {
          "base_uri": "https://localhost:8080/"
        },
        "id": "gkZvt2yVLdOu",
        "outputId": "a84a1182-0157-4c8c-8877-36e3b9539eed"
      },
      "source": [
        "df['failure'].value_counts()"
      ],
      "execution_count": 122,
      "outputs": [
        {
          "output_type": "execute_result",
          "data": {
            "text/plain": [
              "0    124388\n",
              "1       106\n",
              "Name: failure, dtype: int64"
            ]
          },
          "metadata": {},
          "execution_count": 122
        }
      ]
    },
    {
      "cell_type": "markdown",
      "metadata": {
        "id": "rcNRQDol1zSc"
      },
      "source": [
        "## Distribution "
      ]
    },
    {
      "cell_type": "code",
      "metadata": {
        "colab": {
          "base_uri": "https://localhost:8080/",
          "height": 290
        },
        "id": "0s_8KxQVnBEE",
        "outputId": "90237eae-c85c-42b6-9865-073515821c3d"
      },
      "source": [
        "plt.figure(figsize=(20,5))\n",
        "plt_num = 1\n",
        "\n",
        "for col in df.columns:\n",
        "    if plt_num < 11:\n",
        "        plt.subplot(2,5,plt_num)\n",
        "        sns.distplot(df[col])\n",
        "    plt_num += 1\n",
        "plt.tight_layout()"
      ],
      "execution_count": 123,
      "outputs": [
        {
          "output_type": "display_data",
          "data": {
            "image/png": "[encoded data removed]",
            "text/plain": [
              "<Figure size 1440x360 with 10 Axes>"
            ]
          },
          "metadata": {
            "needs_background": "light"
          }
        }
      ]
    },
    {
      "cell_type": "markdown",
      "metadata": {
        "id": "AQcuoDA42Hpn"
      },
      "source": [
        "## Correlation"
      ]
    },
    {
      "cell_type": "code",
      "metadata": {
        "colab": {
          "base_uri": "https://localhost:8080/",
          "height": 641
        },
        "id": "JKxvWDKdpw7r",
        "outputId": "bb34f640-c526-40d1-be87-8e62d8229508"
      },
      "source": [
        "plt.figure(figsize=(10,10))\n",
        "sns.heatmap(df.corr(), annot=True, fmt='.0%')"
      ],
      "execution_count": 124,
      "outputs": [
        {
          "output_type": "execute_result",
          "data": {
            "text/plain": [
              "<matplotlib.axes._subplots.AxesSubplot at 0x7f9b0ebb9f10>"
            ]
          },
          "metadata": {},
          "execution_count": 124
        },
        {
          "output_type": "display_data",
          "data": {
            "image/png": "[encoded data removed]",
            "text/plain": [
              "<Figure size 720x720 with 2 Axes>"
            ]
          },
          "metadata": {
            "needs_background": "light"
          }
        }
      ]
    },
    {
      "cell_type": "code",
      "metadata": {
        "id": "XseBCM59tZZF"
      },
      "source": [
        "df.drop('metric8', axis=1, inplace=True)"
      ],
      "execution_count": 125,
      "outputs": []
    },
    {
      "cell_type": "markdown",
      "metadata": {
        "id": "hP-6RLqgUIn9"
      },
      "source": [
        "#Split into input and output elements"
      ]
    },
    {
      "cell_type": "code",
      "metadata": {
        "id": "gfV1obxfT3yr"
      },
      "source": [
        "X = df.iloc[:, 1:]\n",
        "y = df['failure']"
      ],
      "execution_count": 126,
      "outputs": []
    },
    {
      "cell_type": "markdown",
      "metadata": {
        "id": "LMTzsgODk7iw"
      },
      "source": [
        "#Building Models using Stratified K-fold CV"
      ]
    },
    {
      "cell_type": "code",
      "metadata": {
        "id": "7Fu6rP2MlHUe"
      },
      "source": [
        "from sklearn.dummy import DummyClassifier\n",
        "from sklearn.model_selection import StratifiedKFold\n",
        "from sklearn.linear_model import LogisticRegression\n",
        "from sklearn.tree import DecisionTreeClassifier\n",
        "from sklearn.ensemble import RandomForestClassifier\n",
        "\n",
        "from sklearn.metrics import plot_confusion_matrix\n",
        "from sklearn.metrics import plot_roc_curve\n",
        "from sklearn.metrics import f1_score"
      ],
      "execution_count": 127,
      "outputs": []
    },
    {
      "cell_type": "code",
      "metadata": {
        "id": "Hw1kD0DBvkTw"
      },
      "source": [
        "skf = StratifiedKFold(n_splits=10)"
      ],
      "execution_count": 128,
      "outputs": []
    },
    {
      "cell_type": "code",
      "metadata": {
        "id": "0QPp0lQalSlE"
      },
      "source": [
        "def train_model(X, y, model):\n",
        "    score = 0\n",
        "\n",
        "    for train_index,test_index in skf.split(X, y):\n",
        "        X_train, X_test = X.iloc[train_index], X.iloc[test_index]\n",
        "        y_train, y_test = y.iloc[train_index], y.iloc[test_index]\n",
        "        model.fit(X_train, y_train)\n",
        "        score = score + model.score(X_test,y_test)\n",
        "\n",
        "    print('Mean Accuracy = ', score/10)\n",
        "    plot_roc_curve(model, X_test, y_test )\n",
        "    plot_confusion_matrix(model, X_test,y_test)"
      ],
      "execution_count": 129,
      "outputs": []
    },
    {
      "cell_type": "markdown",
      "metadata": {
        "id": "fs6sa5sKz62H"
      },
      "source": [
        "##Defining our models"
      ]
    },
    {
      "cell_type": "code",
      "metadata": {
        "id": "vsjxap51k62E"
      },
      "source": [
        "base_model = DummyClassifier(strategy='constant', constant=1)\n",
        "log_reg_model = LogisticRegression(solver='newton-cg')\n",
        "dt_model = DecisionTreeClassifier()\n",
        "rf_model = RandomForestClassifier(n_estimators=100)"
      ],
      "execution_count": 130,
      "outputs": []
    },
    {
      "cell_type": "markdown",
      "metadata": {
        "id": "Wa_u8GpY0AgA"
      },
      "source": [
        "##**Baseline Model**"
      ]
    },
    {
      "cell_type": "code",
      "metadata": {
        "colab": {
          "base_uri": "https://localhost:8080/",
          "height": 558
        },
        "id": "Byp5xJdjxRup",
        "outputId": "9f7e6aa6-9a5c-4f4a-e308-c7bbc94f1cf2"
      },
      "source": [
        "train_model(X, y, base_model)"
      ],
      "execution_count": 131,
      "outputs": [
        {
          "output_type": "stream",
          "text": [
            "Mean Accuracy =  0.0008514456250578665\n"
          ],
          "name": "stdout"
        },
        {
          "output_type": "display_data",
          "data": {
            "image/png": "[encoded data removed]",
            "text/plain": [
              "<Figure size 432x288 with 1 Axes>"
            ]
          },
          "metadata": {
            "needs_background": "light"
          }
        },
        {
          "output_type": "display_data",
          "data": {
            "image/png": "[encoded data removed]",
            "text/plain": [
              "<Figure size 432x288 with 2 Axes>"
            ]
          },
          "metadata": {
            "needs_background": "light"
          }
        }
      ]
    },
    {
      "cell_type": "markdown",
      "metadata": {
        "id": "N4UTywcC0FhI"
      },
      "source": [
        "##**Logisitic Regression Model**"
      ]
    },
    {
      "cell_type": "code",
      "metadata": {
        "colab": {
          "base_uri": "https://localhost:8080/",
          "height": 558
        },
        "id": "0nwlyRRqxSuG",
        "outputId": "e9a0c2a1-9783-4dc4-d8d9-c2052f12e001"
      },
      "source": [
        "train_model(X, y, log_reg_model)"
      ],
      "execution_count": 132,
      "outputs": [
        {
          "output_type": "stream",
          "text": [
            "Mean Accuracy =  0.9990360994141237\n"
          ],
          "name": "stdout"
        },
        {
          "output_type": "display_data",
          "data": {
            "image/png": "[encoded data removed]",
            "text/plain": [
              "<Figure size 432x288 with 1 Axes>"
            ]
          },
          "metadata": {
            "needs_background": "light"
          }
        },
        {
          "output_type": "display_data",
          "data": {
            "image/png": "[encoded data removed]",
            "text/plain": [
              "<Figure size 432x288 with 2 Axes>"
            ]
          },
          "metadata": {
            "needs_background": "light"
          }
        }
      ]
    },
    {
      "cell_type": "markdown",
      "metadata": {
        "id": "FF_FTN8S0JIX"
      },
      "source": [
        "##**Decision Tree Model**"
      ]
    },
    {
      "cell_type": "code",
      "metadata": {
        "colab": {
          "base_uri": "https://localhost:8080/",
          "height": 558
        },
        "id": "Bpk2MztXx-3o",
        "outputId": "629f31da-b0b6-4a91-bde5-4358122a7bfd"
      },
      "source": [
        "train_model(X, y, dt_model)"
      ],
      "execution_count": 133,
      "outputs": [
        {
          "output_type": "stream",
          "text": [
            "Mean Accuracy =  0.9545459137538183\n"
          ],
          "name": "stdout"
        },
        {
          "output_type": "display_data",
          "data": {
            "image/png": "[encoded data removed]",
            "text/plain": [
              "<Figure size 432x288 with 1 Axes>"
            ]
          },
          "metadata": {
            "needs_background": "light"
          }
        },
        {
          "output_type": "display_data",
          "data": {
            "image/png": "[encoded data removed]",
            "text/plain": [
              "<Figure size 432x288 with 2 Axes>"
            ]
          },
          "metadata": {
            "needs_background": "light"
          }
        }
      ]
    },
    {
      "cell_type": "markdown",
      "metadata": {
        "id": "L2ZzOs6n0N8g"
      },
      "source": [
        "##**Random Forest Model**"
      ]
    },
    {
      "cell_type": "code",
      "metadata": {
        "colab": {
          "base_uri": "https://localhost:8080/",
          "height": 558
        },
        "id": "glZRHoXuyOCI",
        "outputId": "75b07436-a805-43c6-e0a6-a5a9d8c3b45f"
      },
      "source": [
        "train_model(X, y, rf_model)"
      ],
      "execution_count": 134,
      "outputs": [
        {
          "output_type": "stream",
          "text": [
            "Mean Accuracy =  0.9988031483311349\n"
          ],
          "name": "stdout"
        },
        {
          "output_type": "display_data",
          "data": {
            "image/png": "[encoded data removed]",
            "text/plain": [
              "<Figure size 432x288 with 1 Axes>"
            ]
          },
          "metadata": {
            "needs_background": "light"
          }
        },
        {
          "output_type": "display_data",
          "data": {
            "image/png": "[encoded data removed]",
            "text/plain": [
              "<Figure size 432x288 with 2 Axes>"
            ]
          },
          "metadata": {
            "needs_background": "light"
          }
        }
      ]
    },
    {
      "cell_type": "code",
      "metadata": {
        "id": "qWZr_hwYyP5E"
      },
      "source": [
        ""
      ],
      "execution_count": 134,
      "outputs": []
    }
  ]
}